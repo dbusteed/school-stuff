{
 "cells": [
  {
   "cell_type": "markdown",
   "metadata": {},
   "source": [
    "## SETUP"
   ]
  },
  {
   "cell_type": "code",
   "execution_count": 1,
   "metadata": {},
   "outputs": [],
   "source": [
    "#-----------------#\n",
    "#                 # \n",
    "#  Davis Busteed  #\n",
    "#  ECON 484       #\n",
    "#                 #\n",
    "#-----------------#"
   ]
  },
  {
   "cell_type": "code",
   "execution_count": 2,
   "metadata": {},
   "outputs": [],
   "source": [
    "#--------------------#\n",
    "#                    #\n",
    "#  import libraries  #\n",
    "#                    #\n",
    "#--------------------#\n",
    "\n",
    "# data manipulation library\n",
    "import pandas as pd\n",
    "\n",
    "# scikit-learn tools\n",
    "from sklearn.model_selection import train_test_split, GridSearchCV\n",
    "from sklearn.feature_extraction.text import TfidfVectorizer\n",
    "from sklearn.decomposition import PCA\n",
    "from sklearn.metrics import confusion_matrix, plot_confusion_matrix\n",
    "\n",
    "# scikit-learn models\n",
    "from sklearn.ensemble import RandomForestClassifier, GradientBoostingClassifier\n",
    "from sklearn.tree import DecisionTreeClassifier\n",
    "from sklearn.neighbors import KNeighborsClassifier\n",
    "from sklearn.svm import SVC\n",
    "from sklearn.linear_model import LogisticRegression\n",
    "from sklearn.neural_network import MLPClassifier\n",
    "\n",
    "# MatPlotLib for making charts\n",
    "import matplotlib.pyplot as plt\n",
    "\n",
    "# native modules\n",
    "from inspect import getfullargspec\n",
    "from datetime import datetime\n",
    "from abc import ABCMeta"
   ]
  },
  {
   "cell_type": "code",
   "execution_count": 3,
   "metadata": {},
   "outputs": [],
   "source": [
    "#-------------------------#\n",
    "#                         #\n",
    "#  constants / functions  #\n",
    "#                         #\n",
    "#-------------------------#\n",
    "\n",
    "SEED = 372\n",
    "CV_FOLDS = 5\n",
    "USE_TFIDF = False\n",
    "\n",
    "def get_time():\n",
    "    return datetime.now().strftime('%H:%M:%S')"
   ]
  },
  {
   "cell_type": "code",
   "execution_count": 4,
   "metadata": {},
   "outputs": [
    {
     "name": "stdout",
     "output_type": "stream",
     "text": [
      "   country                                           raw_text  at_count  \\\n",
      "0  ENGLAND               @HauwaTafida I wonder who asked them         1   \n",
      "1  ENGLAND                                          😩😩cute af         0   \n",
      "2  ENGLAND  @KateDrummond_ @DIBSRescue I’m SO pleased for ...         2   \n",
      "3  ENGLAND                      @den2114 Sold her country out         1   \n",
      "4  ENGLAND                       Why isn’t silence an option?         0   \n",
      "\n",
      "   hash_count  emoji_count  has_url                      clean_text  text_len  \\\n",
      "0           0            0        0         I wonder who asked them        24   \n",
      "1           0            2        0                         cute af         7   \n",
      "2           0            2        0   I’m SO pleased for you guys!         30   \n",
      "3           0            0        0            Sold her country out        21   \n",
      "4           0            0        0    Why isn’t silence an option?        28   \n",
      "\n",
      "   word_count  sentiment  \n",
      "0           6     0.0000  \n",
      "1           2     0.4588  \n",
      "2           8     0.6391  \n",
      "3           5     0.0000  \n",
      "4           5     0.0000  \n",
      "(40000, 10)\n"
     ]
    }
   ],
   "source": [
    "#-----------------#\n",
    "#                 #\n",
    "#  checkout data  #\n",
    "#                 #\n",
    "#-----------------#\n",
    "\n",
    "# load data\n",
    "df = pd.read_json('../data/processed_tweets.json')\n",
    "\n",
    "# checkout the head and shape\n",
    "print(df.head())\n",
    "print(df.shape)"
   ]
  },
  {
   "cell_type": "code",
   "execution_count": 5,
   "metadata": {},
   "outputs": [],
   "source": [
    "#----------------#\n",
    "#                #\n",
    "#  prepare data  #\n",
    "#                #\n",
    "#----------------#\n",
    "\n",
    "# y (outcome) vector is the origin country of the tweet\n",
    "y = df['country']\n",
    "\n",
    "# X (predictors) matrix is the numeric features, everything but the 'y' and text variables\n",
    "X = df.drop(columns=['country', 'raw_text', 'clean_text'])\n",
    "\n",
    "# use default .75 split\n",
    "X_train, X_test, y_train, y_test = train_test_split(X, y, stratify=y, random_state=SEED)"
   ]
  },
  {
   "cell_type": "code",
   "execution_count": 6,
   "metadata": {},
   "outputs": [],
   "source": [
    "#--------------------------#\n",
    "#                          #\n",
    "#  define ModelEval class  #\n",
    "#                          #\n",
    "#--------------------------#\n",
    "\n",
    "# this class defines a model, CV grid,\n",
    "# and a method for training and testing the results\n",
    "class ModelEvaluator():\n",
    "    \n",
    "    # constructor\n",
    "    def __init__(self, name, model, grid=None, seed=SEED, folds=CV_FOLDS):\n",
    "        self.name = name\n",
    "        self.model = model\n",
    "        self.grid = grid\n",
    "        self.seed = seed\n",
    "        self.folds = folds\n",
    "\n",
    "    # find tuning parameters, return best model\n",
    "    def find_best_model(self):\n",
    "        \n",
    "        print(f'[{get_time()}] * Creating models...')\n",
    "        \n",
    "        # it's sometimes necessary to pass in a pre-built model,\n",
    "        # if 'self.model' is only an Abstract Base Class (ABCMeta)\n",
    "        # then we need to instatiate the model\n",
    "        if isinstance(self.model, ABCMeta):\n",
    "            \n",
    "            # not all models have a 'random_state' option\n",
    "            if 'random_state' in getfullargspec(self.model).args:\n",
    "                mdl = self.model(random_state=self.seed)\n",
    "            else:\n",
    "                mdl = self.model()\n",
    "        \n",
    "        # when the model was already instatiated\n",
    "        else:\n",
    "            mdl = self.model\n",
    "            \n",
    "        print(f'[{get_time()}] * Evaluating models...')\n",
    "            \n",
    "        # cross-validate to find parameters if a grid was provided\n",
    "        if self.grid:\n",
    "            cv = GridSearchCV(mdl, self.grid, cv=self.folds)\n",
    "            cv.fit(X_train, y_train)\n",
    "            score = cv.best_estimator_.score(X_test, y_test)\n",
    "            params = cv.best_params_\n",
    "            mdl = cv.best_estimator_\n",
    "        else:\n",
    "            mdl.fit(X_train, y_train)\n",
    "            score = mdl.score(X_test, y_test)\n",
    "            params = 'none'\n",
    "    \n",
    "        # return the name, score, parameters,\n",
    "        # and the actual model object\n",
    "        return [self.name, score, params, mdl]"
   ]
  },
  {
   "cell_type": "markdown",
   "metadata": {},
   "source": [
    "## TEST MULTIPLE MODELS w/ ALL FEATURES"
   ]
  },
  {
   "cell_type": "code",
   "execution_count": 7,
   "metadata": {},
   "outputs": [],
   "source": [
    "#--------------------------#\n",
    "#                          #\n",
    "#  define possible models  #\n",
    "#                          #\n",
    "#--------------------------#\n",
    "\n",
    "possible_models = [\n",
    "    \n",
    "    # decision tree\n",
    "    ModelEvaluator(name=\"Decision Tree\",\n",
    "                   model=DecisionTreeClassifier,\n",
    "                   grid={'max_depth': [2,3,4,5,7,10], 'min_samples_leaf': [1,3,5,7,10]}\n",
    "    ),\n",
    "    \n",
    "    # bagging\n",
    "    ModelEvaluator(name=\"Bagging\",\n",
    "                   model=RandomForestClassifier,\n",
    "                   grid={'max_depth': [2,3,4,5,7,10], 'min_samples_leaf': [1,3,5,7,10],\n",
    "                         'n_estimators': [50], 'max_features': [None]}\n",
    "    ),\n",
    "    \n",
    "    # random forest\n",
    "    ModelEvaluator(name=\"Random Forest\",\n",
    "                   model=RandomForestClassifier,\n",
    "                   grid={'max_depth': [2,3,4,5,7,10], 'min_samples_leaf': [1,3,5,7,10],\n",
    "                         'n_estimators': [50]}\n",
    "    ),\n",
    "    \n",
    "    # boosting\n",
    "    ModelEvaluator(name=\"Boosting\",\n",
    "                   model=GradientBoostingClassifier,\n",
    "                   grid={'learning_rate': [.001, .01, .1, .25, .5, .75, 1], 'n_estimators': [50]}\n",
    "    ),\n",
    "    \n",
    "    # KNN -- left out because it was consistently bad\n",
    "    ModelEvaluator(name=\"K-Nearest Neighbors\",\n",
    "                   model=KNeighborsClassifier,\n",
    "                   grid={'n_neighbors': [1,2,3,4,5,6,7,8,9,10]}\n",
    "    ),\n",
    "    \n",
    "    # SVC\n",
    "    ModelEvaluator(name=\"Support Vector Classifer\",\n",
    "                   model=SVC,\n",
    "                   grid={'C': [0.1, .25, .5, 1], 'kernel': ['rbf'], 'gamma': ['auto']}\n",
    "    ),\n",
    "    \n",
    "    # LogReg\n",
    "    ModelEvaluator(name=\"Logistic Regression\",\n",
    "                   model=LogisticRegression(solver='lbfgs')\n",
    "    ),\n",
    "    \n",
    "    # NN\n",
    "    ModelEvaluator(name=\"Neural Network\",\n",
    "                   model=MLPClassifier,\n",
    "                   grid={'hidden_layer_sizes': [(100,50,20), (10,10,10,10,10), (200,100,50)], 'max_iter': [200]}\n",
    "    ),\n",
    "]"
   ]
  },
  {
   "cell_type": "code",
   "execution_count": 8,
   "metadata": {},
   "outputs": [
    {
     "name": "stdout",
     "output_type": "stream",
     "text": [
      "[10:21:42] Working on Decision Tree models (1 of 8)\n",
      "[10:21:42] * Creating models...\n",
      "[10:21:42] * Evaluating models...\n",
      "[10:22:07] Working on Bagging models (2 of 8)\n",
      "[10:22:07] * Creating models...\n",
      "[10:22:07] * Evaluating models...\n",
      "[10:26:43] Working on Random Forest models (3 of 8)\n",
      "[10:26:43] * Creating models...\n",
      "[10:26:43] * Evaluating models...\n",
      "[10:28:36] Working on Boosting models (4 of 8)\n",
      "[10:28:36] * Creating models...\n",
      "[10:28:36] * Evaluating models...\n",
      "[10:29:14] Working on K-Nearest Neighbors models (5 of 8)\n",
      "[10:29:14] * Creating models...\n",
      "[10:29:14] * Evaluating models...\n",
      "[10:29:49] Working on Support Vector Classifer models (6 of 8)\n",
      "[10:29:49] * Creating models...\n",
      "[10:29:49] * Evaluating models...\n",
      "[10:44:03] Working on Logistic Regression models (7 of 8)\n",
      "[10:44:03] * Creating models...\n",
      "[10:44:03] * Evaluating models...\n",
      "[10:44:03] Working on Neural Network models (8 of 8)\n",
      "[10:44:03] * Creating models...\n",
      "[10:44:03] * Evaluating models...\n"
     ]
    },
    {
     "name": "stderr",
     "output_type": "stream",
     "text": [
      "c:\\users\\buste\\appdata\\local\\programs\\python\\python37\\lib\\site-packages\\sklearn\\neural_network\\_multilayer_perceptron.py:571: ConvergenceWarning: Stochastic Optimizer: Maximum iterations (200) reached and the optimization hasn't converged yet.\n",
      "  % self.max_iter, ConvergenceWarning)\n",
      "c:\\users\\buste\\appdata\\local\\programs\\python\\python37\\lib\\site-packages\\sklearn\\neural_network\\_multilayer_perceptron.py:571: ConvergenceWarning: Stochastic Optimizer: Maximum iterations (200) reached and the optimization hasn't converged yet.\n",
      "  % self.max_iter, ConvergenceWarning)\n",
      "c:\\users\\buste\\appdata\\local\\programs\\python\\python37\\lib\\site-packages\\sklearn\\neural_network\\_multilayer_perceptron.py:571: ConvergenceWarning: Stochastic Optimizer: Maximum iterations (200) reached and the optimization hasn't converged yet.\n",
      "  % self.max_iter, ConvergenceWarning)\n",
      "c:\\users\\buste\\appdata\\local\\programs\\python\\python37\\lib\\site-packages\\sklearn\\neural_network\\_multilayer_perceptron.py:571: ConvergenceWarning: Stochastic Optimizer: Maximum iterations (200) reached and the optimization hasn't converged yet.\n",
      "  % self.max_iter, ConvergenceWarning)\n",
      "c:\\users\\buste\\appdata\\local\\programs\\python\\python37\\lib\\site-packages\\sklearn\\neural_network\\_multilayer_perceptron.py:571: ConvergenceWarning: Stochastic Optimizer: Maximum iterations (200) reached and the optimization hasn't converged yet.\n",
      "  % self.max_iter, ConvergenceWarning)\n"
     ]
    },
    {
     "name": "stdout",
     "output_type": "stream",
     "text": [
      "[10:54:18] All models evaluated\n"
     ]
    }
   ],
   "source": [
    "#--------------------------------#\n",
    "#                                #\n",
    "#  run all models, save results  #\n",
    "#                                #\n",
    "#--------------------------------#\n",
    "\n",
    "results = []\n",
    "\n",
    "# loop thru every possible model,\n",
    "# and use the 'find_best_model' method built-in the class.\n",
    "# save these results to a list\n",
    "for i,pm in enumerate(possible_models):\n",
    "    \n",
    "    # show the progress of the model evaulation\n",
    "    print(f'[{get_time()}] Working on {pm.name} models ({i+1} of {len(possible_models)})')\n",
    "    \n",
    "    # save the results\n",
    "    results.append( pm.find_best_model() )\n",
    "    \n",
    "print(f'[{get_time()}] All models evaluated')"
   ]
  },
  {
   "cell_type": "code",
   "execution_count": 9,
   "metadata": {},
   "outputs": [
    {
     "data": {
      "image/png": "[encoded data removed]",
      "text/plain": [
       "<Figure size 432x288 with 1 Axes>"
      ]
     },
     "metadata": {
      "needs_background": "light"
     },
     "output_type": "display_data"
    }
   ],
   "source": [
    "# data for the plot\n",
    "labels = [r[0] for r in results]\n",
    "scores = [r[1] for r in results]\n",
    "\n",
    "# find the best model within the results\n",
    "# by selecting the model with the highest test accuracy\n",
    "best_score = max(scores)\n",
    "best_model = [r for r in results if r[1] == best_score][0]\n",
    "\n",
    "# plot the labels / scores\n",
    "plt.barh(labels, scores)\n",
    "plt.xlim([min(scores)-.001, max(scores)+.001])\n",
    "plt.title(f'Best model: {best_model[0]}\\nScore: {best_score}')\n",
    "plt.xlabel('Test Accuracy')\n",
    "plt.show()"
   ]
  },
  {
   "cell_type": "code",
   "execution_count": 10,
   "metadata": {},
   "outputs": [
    {
     "name": "stdout",
     "output_type": "stream",
     "text": [
      "Details for Boosting (best model):\n",
      "\n",
      "Score:\n",
      "\t0.5904\n",
      "\n",
      "Non-default params:\n",
      "\t{'learning_rate': 0.5, 'n_estimators': 50}\n"
     ]
    }
   ],
   "source": [
    "# print the details of the best model\n",
    "print(f'Details for {best_model[0]} (best model):\\n')\n",
    "print(f'Score:\\n\\t{best_model[1]}\\n')\n",
    "print(f'Non-default params:\\n\\t{best_model[2]}')"
   ]
  },
  {
   "cell_type": "code",
   "execution_count": 11,
   "metadata": {},
   "outputs": [
    {
     "data": {
      "image/png": "[encoded data removed]",
      "text/plain": [
       "<Figure size 432x288 with 1 Axes>"
      ]
     },
     "metadata": {
      "needs_background": "light"
     },
     "output_type": "display_data"
    }
   ],
   "source": [
    "# check out feature importances\n",
    "plt.barh(X_train.columns, best_model[3].feature_importances_)\n",
    "plt.show()"
   ]
  },
  {
   "cell_type": "code",
   "execution_count": 12,
   "metadata": {},
   "outputs": [
    {
     "name": "stdout",
     "output_type": "stream",
     "text": [
      "[[2971 2029]\n",
      " [2067 2933]]\n"
     ]
    }
   ],
   "source": [
    "#-----------------------------------------#\n",
    "#                                         #\n",
    "#  make predictions and confusion matrix  #\n",
    "#                                         #\n",
    "#-----------------------------------------#\n",
    "\n",
    "# make predictions\n",
    "y_pred = best_model[3].predict(X_test)\n",
    "\n",
    "# build a confusion matrix\n",
    "cm = confusion_matrix(y_test, y_pred, labels=['AMERICA', 'ENGLAND'])\n",
    "\n",
    "print(cm)"
   ]
  },
  {
   "cell_type": "markdown",
   "metadata": {},
   "source": [
    "## REMAKE BEST MODEL USING TF-IDF"
   ]
  },
  {
   "cell_type": "code",
   "execution_count": 13,
   "metadata": {},
   "outputs": [],
   "source": [
    "#------------------------------------------#\n",
    "#                                          #\n",
    "#  create a TF-IDF matrix from clean_text  #\n",
    "#  try TF-IDF with the best model          #\n",
    "#                                          #\n",
    "#------------------------------------------#\n",
    "\n",
    "# make TfidfVectorizer object\n",
    "vect = TfidfVectorizer()\n",
    "\n",
    "# create the TF-IDF matrix\n",
    "tfidf = pd.DataFrame(vect.fit_transform(df['clean_text']).toarray(), columns=vect.get_feature_names())"
   ]
  },
  {
   "cell_type": "code",
   "execution_count": 14,
   "metadata": {},
   "outputs": [
    {
     "data": {
      "text/plain": [
       "0.5796"
      ]
     },
     "execution_count": 14,
     "metadata": {},
     "output_type": "execute_result"
    }
   ],
   "source": [
    "# recreate the best model from previous steps\n",
    "# using same tuning parameters (see a couple cells above \n",
    "# where mode details were printed)\n",
    "mdl = GradientBoostingClassifier(random_state=SEED, n_estimators=50, learning_rate=.5)\n",
    "\n",
    "# reduce TF-IDF to 100 principal components\n",
    "pca100 = PCA(n_components=100, random_state=SEED)\n",
    "tfidf_100 = pca100.fit_transform(tfidf)\n",
    "\n",
    "# make a new train and test set\n",
    "X_train, X_test, y_train, y_test = train_test_split(tfidf_100, y, stratify=y, random_state=SEED)\n",
    "\n",
    "# fit and score the model with just using TF-IDF\n",
    "mdl.fit(X_train, y_train)\n",
    "mdl.score(X_test, y_test)"
   ]
  },
  {
   "cell_type": "code",
   "execution_count": 15,
   "metadata": {},
   "outputs": [
    {
     "data": {
      "text/plain": [
       "0.6009"
      ]
     },
     "execution_count": 15,
     "metadata": {},
     "output_type": "execute_result"
    }
   ],
   "source": [
    "# combine features from before (X) and PCA(tfidf)\n",
    "X_tfidf_100 = X.join(pd.DataFrame(tfidf_100))\n",
    "X_train, X_test, y_train, y_test = train_test_split(X_tfidf_100, y, stratify=y, random_state=SEED)\n",
    "\n",
    "# model with extracted features (X) and TF-IDF\n",
    "mdl.fit(X_train, y_train)\n",
    "mdl.score(X_test, y_test)"
   ]
  },
  {
   "cell_type": "code",
   "execution_count": 16,
   "metadata": {},
   "outputs": [
    {
     "data": {
      "image/png": "[encoded data removed]",
      "text/plain": [
       "<Figure size 432x288 with 1 Axes>"
      ]
     },
     "metadata": {
      "needs_background": "light"
     },
     "output_type": "display_data"
    }
   ],
   "source": [
    "# plot the accuray scores and the model types\n",
    "# (i just collected the scores manually and added them here)\n",
    "scores = [0.5904, 0.5796, 0.6009]\n",
    "plt.barh([f'Extracted Features\\nScore: {scores[0]}', f'PCA_100 TF-IDF\\nScore: {scores[1]}', f'PCA_100 TF-IDF \\nw/ Extracted Features\\nScore: {scores[2]}'], scores)\n",
    "plt.title(f'Boosting: lr=.5, B=50')\n",
    "plt.xlim([min(scores)-.05, max(scores)+.01])\n",
    "plt.show()"
   ]
  }
 ],
 "metadata": {
  "kernelspec": {
   "display_name": "Python 3",
   "language": "python",
   "name": "python3"
  },
  "language_info": {
   "codemirror_mode": {
    "name": "ipython",
    "version": 3
   },
   "file_extension": ".py",
   "mimetype": "text/x-python",
   "name": "python",
   "nbconvert_exporter": "python",
   "pygments_lexer": "ipython3",
   "version": "3.7.3"
  }
 },
 "nbformat": 4,
 "nbformat_minor": 2
}
