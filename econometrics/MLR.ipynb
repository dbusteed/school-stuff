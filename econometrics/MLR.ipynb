{
 "cells": [
  {
   "cell_type": "markdown",
   "metadata": {},
   "source": [
    "<!-- Davis Busteed -->\n",
    "\n",
    "## Introduction\n",
    "\n",
    "Linear regression is one of the most fundamental modeling techniques used in both descriptive and predictive statistics. When several *independent* variables are available to estimate a *dependent* variable, the Multiple Linear Regression (MLR) model is used.\n",
    "\n",
    "Although it is possible to use MLR modeling without understanding the underlying mathematics, the following Notebook can give you a brief overview of how MLR really works."
   ]
  },
  {
   "cell_type": "markdown",
   "metadata": {},
   "source": [
    "## Getting Started\n",
    "\n",
    "With a basic understanding of MLR, one should be aware that the MLR model is defined as\n",
    "\n",
    "$$ {y_i} = {\\beta_0} + {\\beta_1}x_{i1} + {\\beta_2}x_{i2} + \\ldots + {\\beta_k}x_{ik} + u_i $$\n",
    "\n",
    "where $ y_i $ is the acutal value of the dependent variable for individual $ i $, $ \\beta_0 $ is the intercept (or constant), $ \\beta_1 \\ldots \\beta_k $ are the coefficients (or parameters) for their respective independent variables, and $ u_i $ is the error term that is unique to individual $ i $.\n",
    "\n",
    "This model represents the entire *population* we are interested in. We won't be able to know the true values the $ \\beta $ parameters, so the following *sample* model must be used to estimate the relationship between the independent variables and the dependent variable:\n",
    "\n",
    "$$ \\hat{y_i} = \\hat{\\beta_0} + \\hat{\\beta_1}x_{i1} + \\hat{\\beta_2}x_{i2} + \\ldots + \\hat{\\beta_k}x_{ik} $$\n",
    "\n",
    "Notice that $u_i$ isn't present in this model. During estimation, the true error term is unknonw to us. Instead, it will be calculated later, and refered to as the *residual*."
   ]
  },
  {
   "cell_type": "markdown",
   "metadata": {},
   "source": [
    "## Objective\n",
    "\n",
    "Because the residuals are essentially a measure of how well the model describes the relationship in the data, **the objective of MLR is to find the parameters that will result in the smallest residuals**. In Ordinary Least-Squares Regression (OLS), this objective is formalized as finding the set of parameters that minimizes the sum of residuals squared. \n",
    "\n",
    "As mentioned above, we will never know the *true* values of the $\\beta$ parameters; instead, we will derive a set of *estimators* that we can use to make inferences and predictions. "
   ]
  },
  {
   "cell_type": "markdown",
   "metadata": {},
   "source": [
    "## Transition to Matrix Notation\n",
    "\n",
    "Before moving on, it is important to make sure that we can mathematically maniuplate our model in matrix notation. Since there is no limit to the number of independent variables that can be included in the model, matrix notation is the only realistic way to continue. \n",
    "\n",
    "As it is currently defined, the model inputs have the subscript $i$ to show that a different prediction will be made for each data point. We can visualize the data as every regression from $i$ to $n$.\n",
    "\n",
    "$$ \\hat{y_1} = \\hat{\\beta_0} + \\hat{\\beta_1}x_{11} + \\hat{\\beta_2}x_{12} + \\ldots + \\hat{\\beta_k}x_{1k} $$\n",
    "\n",
    "$$ \\hat{y_2} = \\hat{\\beta_0} + \\hat{\\beta_1}x_{21} + \\hat{\\beta_2}x_{22} + \\ldots + \\hat{\\beta_k}x_{2k} $$\n",
    "\n",
    "$$ \\vdots $$\n",
    "\n",
    "$$ \\hat{y_n} = \\hat{\\beta_0} + \\hat{\\beta_1}x_{n1} + \\hat{\\beta_2}x_{n2} + \\ldots + \\hat{\\beta_k}x_{nk} $$\n",
    "\n",
    "<br>\n",
    "This series of different individual regressions can be grouped together into 3 matricies:\n",
    "\n",
    "$$ \\hat{Y} = \n",
    "\\begin{bmatrix}\n",
    "    y_1 \\\\\n",
    "    y_2 \\\\\n",
    "    \\vdots \\\\\n",
    "    y_n\n",
    "\\end{bmatrix}  \n",
    "; \\hat{\\beta} = \n",
    "\\begin{bmatrix}\n",
    "    \\beta_0 \\\\\n",
    "    \\beta_1 \\\\\n",
    "    \\vdots \\\\\n",
    "    \\beta_k\n",
    "\\end{bmatrix}\n",
    "; X = \n",
    "\\begin{bmatrix}\n",
    "    1 & x_{11} & x_{12} & \\dots & x_{1k} \\\\\n",
    "    1 & x_{21} & x_{22} & \\dots & x_{2k} \\\\\n",
    "    \\vdots & \\vdots & \\vdots & \\ddots & \\vdots \\\\\n",
    "    1 & x_{n1} & x_{n2} & \\dots & x_{nk} \\\\\n",
    "\\end{bmatrix}\n",
    "$$\n",
    "\n",
    "If you are familiar with matrix algebra, you will notice that $\\hat{Y}$ is simply the dot product of $X$ and $\\hat{\\beta}$. Also notice that the $1$s in the first column of $X$. These are the values that will be mutiplied by the constant $\\hat{\\beta_0}$.\n",
    "\n"
   ]
  },
  {
   "cell_type": "markdown",
   "metadata": {},
   "source": [
    "## Derive the estimator for $ \\hat{\\beta} $\n",
    "\n",
    "With our matricies set up, we are now able to derive the estimator for $ \\hat{\\beta} $ in which the sum of square residuals will be minimized ( $ \\min\\sum{\\hat{u_i^2} } $ ).\n",
    "\n",
    "Before we start to minimize $ \\sum{\\hat{u_i^2}} $ with respect to $ \\hat{\\beta}, $ we can simplify $ \\sum{\\hat{u_i^2}} $ by separating $ {u_i}^2 $ into two matricies. By transposing one and bringing them back together, the sum of square residuals can be rewritten as $ \\hat{U'}\\hat{U} $, where $\\hat{U}$ is a $(n x 1)$ matrix of residuals.\n",
    "\n",
    "<br>\n",
    "We can now derive the estimator that minimizes the sum of square residuals:\n",
    "\n",
    "$$ \\min{\\hat{U'}\\hat{U}} $$\n",
    "\n",
    "<br>\n",
    "From previous definitions we know that $\\hat{U} = Y -\\hat{Y}$ and $\\hat{Y} = X\\hat{\\beta} $, therefore\n",
    "\n",
    "$$ \\min{ (Y -\\hat{Y})'(Y -\\hat{Y}) } $$\n",
    "\n",
    "$$ \\min{ (Y - X\\hat{\\beta})'(Y - X\\hat{\\beta}) } $$\n",
    "\n",
    "$$ \\min{ Y'Y - Y'X\\hat{\\beta} - (X\\hat{\\beta})'Y } + (X\\hat{\\beta})'X\\hat{\\beta}$$\n",
    "\n",
    "$$ \\min{ Y'Y - Y'X\\hat{\\beta} - \\hat{\\beta}'X'Y } + \\hat{\\beta}'X'X\\hat{\\beta}$$\n",
    "\n",
    "$$ \\min{ Y'Y - 2\\hat{\\beta}X'Y + \\hat{\\beta}'X'X\\hat{\\beta} }$$\n",
    "\n",
    "<br>\n",
    "To find the minimum of this expression in regards to $\\hat{\\beta}$, we will take the derivative, set it equal to zero, then solve for $\\hat{\\beta}$.\n",
    "\n",
    "$$ \\frac{\\partial \\hat{U'}\\hat{U}}{\\partial \\hat{\\beta}} = -2X'Y + 2X'X\\hat{\\beta} $$\n",
    "\n",
    "$$ -2X'Y + 2X'X\\hat{\\beta} = 0 $$\n",
    "\n",
    "$$ 2X'X\\hat{\\beta} = 2X'Y $$\n",
    "\n",
    "$$ X'X\\hat{\\beta} = X'Y $$\n",
    "\n",
    "$$ (X'X)^{-1}(X'X)\\hat{\\beta} = (X'X)^{-1}X'Y $$\n",
    "\n",
    "$$ \\hat{\\beta} = (X'X)^{-1}X'Y $$"
   ]
  },
  {
   "cell_type": "markdown",
   "metadata": {},
   "source": [
    "## Example With Data\n",
    "\n",
    "Although there are numerous Python libraries that will do MLR for us, let's use the derivation of $\\hat{\\beta}$ to see how it works.\n",
    "\n",
    "Let's load up a relatively small dataset. We will use tenure, IQ, and education level to wage."
   ]
  },
  {
   "cell_type": "code",
   "execution_count": 52,
   "metadata": {},
   "outputs": [
    {
     "data": {
      "text/html": [
       "<div>\n",
       "<style scoped>\n",
       "    .dataframe tbody tr th:only-of-type {\n",
       "        vertical-align: middle;\n",
       "    }\n",
       "\n",
       "    .dataframe tbody tr th {\n",
       "        vertical-align: top;\n",
       "    }\n",
       "\n",
       "    .dataframe thead th {\n",
       "        text-align: right;\n",
       "    }\n",
       "</style>\n",
       "<table border=\"1\" class=\"dataframe\">\n",
       "  <thead>\n",
       "    <tr style=\"text-align: right;\">\n",
       "      <th></th>\n",
       "      <th>wage</th>\n",
       "      <th>tenure</th>\n",
       "      <th>IQ</th>\n",
       "      <th>educ</th>\n",
       "    </tr>\n",
       "  </thead>\n",
       "  <tbody>\n",
       "    <tr>\n",
       "      <th>0</th>\n",
       "      <td>769</td>\n",
       "      <td>2</td>\n",
       "      <td>93</td>\n",
       "      <td>12</td>\n",
       "    </tr>\n",
       "    <tr>\n",
       "      <th>1</th>\n",
       "      <td>808</td>\n",
       "      <td>16</td>\n",
       "      <td>119</td>\n",
       "      <td>18</td>\n",
       "    </tr>\n",
       "    <tr>\n",
       "      <th>2</th>\n",
       "      <td>825</td>\n",
       "      <td>9</td>\n",
       "      <td>108</td>\n",
       "      <td>14</td>\n",
       "    </tr>\n",
       "    <tr>\n",
       "      <th>3</th>\n",
       "      <td>650</td>\n",
       "      <td>7</td>\n",
       "      <td>96</td>\n",
       "      <td>12</td>\n",
       "    </tr>\n",
       "    <tr>\n",
       "      <th>4</th>\n",
       "      <td>562</td>\n",
       "      <td>5</td>\n",
       "      <td>74</td>\n",
       "      <td>11</td>\n",
       "    </tr>\n",
       "  </tbody>\n",
       "</table>\n",
       "</div>"
      ],
      "text/plain": [
       "   wage  tenure   IQ  educ\n",
       "0   769       2   93    12\n",
       "1   808      16  119    18\n",
       "2   825       9  108    14\n",
       "3   650       7   96    12\n",
       "4   562       5   74    11"
      ]
     },
     "execution_count": 52,
     "metadata": {},
     "output_type": "execute_result"
    }
   ],
   "source": [
    "# gotta have these!\n",
    "import pandas as pd\n",
    "import numpy as np\n",
    "\n",
    "# load up the data\n",
    "df = pd.read_csv('wage2.csv')\n",
    "\n",
    "# look at a couple of records\n",
    "df.head(5)"
   ]
  },
  {
   "cell_type": "markdown",
   "metadata": {},
   "source": [
    "<br>\n",
    "Next, we need to split the dataframe into two matricies, one for the dependent variable (Y), and the independent variables (X)."
   ]
  },
  {
   "cell_type": "code",
   "execution_count": 53,
   "metadata": {},
   "outputs": [],
   "source": [
    "# Create a Numpy.matrix object so that we can use matrix operations\n",
    "\n",
    "Y = np.matrix(df.wage).T\n",
    "X = np.matrix([np.ones(len(df)), df.tenure, df.IQ, df.educ]).T"
   ]
  },
  {
   "cell_type": "code",
   "execution_count": 54,
   "metadata": {},
   "outputs": [
    {
     "data": {
      "text/plain": [
       "matrix([[769],\n",
       "        [808],\n",
       "        [825],\n",
       "        [650],\n",
       "        [562]], dtype=int64)"
      ]
     },
     "execution_count": 54,
     "metadata": {},
     "output_type": "execute_result"
    }
   ],
   "source": [
    "# Verify the Y matrix contains the first 5 values for wage\n",
    "\n",
    "Y[:5]"
   ]
  },
  {
   "cell_type": "code",
   "execution_count": 57,
   "metadata": {},
   "outputs": [
    {
     "data": {
      "text/plain": [
       "matrix([[  1.,   2.,  93.,  12.],\n",
       "        [  1.,  16., 119.,  18.],\n",
       "        [  1.,   9., 108.,  14.],\n",
       "        [  1.,   7.,  96.,  12.],\n",
       "        [  1.,   5.,  74.,  11.]])"
      ]
     },
     "execution_count": 57,
     "metadata": {},
     "output_type": "execute_result"
    }
   ],
   "source": [
    "# Verify the X matrix contains the X values for the first 5 individuals (as well as the column of ones)\n",
    "\n",
    "X[:5]"
   ]
  },
  {
   "cell_type": "markdown",
   "metadata": {},
   "source": [
    "<br>\n",
    "Now we can calculate the following $ \\hat{\\beta} = (X'X)^{-1}X'Y $"
   ]
  },
  {
   "cell_type": "code",
   "execution_count": 58,
   "metadata": {},
   "outputs": [],
   "source": [
    "B = (X.T * X).I * X.T * Y"
   ]
  },
  {
   "cell_type": "markdown",
   "metadata": {},
   "source": [
    "<br>\n",
    "Let's look at the results. This matrix contains the parameters for our model."
   ]
  },
  {
   "cell_type": "code",
   "execution_count": 59,
   "metadata": {},
   "outputs": [
    {
     "data": {
      "text/plain": [
       "matrix([[-199.55416715],\n",
       "        [  10.3007383 ],\n",
       "        [   4.85024855],\n",
       "        [  43.93506431]])"
      ]
     },
     "execution_count": 59,
     "metadata": {},
     "output_type": "execute_result"
    }
   ],
   "source": [
    "B"
   ]
  },
  {
   "cell_type": "markdown",
   "metadata": {},
   "source": [
    "<br>\n",
    "Let's use the parameter values above to create a function for our sample model."
   ]
  },
  {
   "cell_type": "code",
   "execution_count": 60,
   "metadata": {},
   "outputs": [],
   "source": [
    "def predict_wage(t, iq, ed):\n",
    "    \n",
    "    # y = b0 + b1*tenure + b2*IQ + b3*educ\n",
    "    \n",
    "    return int(float(B[0]) + (float(B[1]) * t) + (float(B[2]) * iq) + (float(B[3]) * ed))"
   ]
  },
  {
   "cell_type": "markdown",
   "metadata": {},
   "source": [
    "## Conclusion\n",
    "\n",
    "Let's checkout a couple of the records and see how our sample regression model performed."
   ]
  },
  {
   "cell_type": "code",
   "execution_count": 44,
   "metadata": {},
   "outputs": [
    {
     "data": {
      "text/html": [
       "<div>\n",
       "<style scoped>\n",
       "    .dataframe tbody tr th:only-of-type {\n",
       "        vertical-align: middle;\n",
       "    }\n",
       "\n",
       "    .dataframe tbody tr th {\n",
       "        vertical-align: top;\n",
       "    }\n",
       "\n",
       "    .dataframe thead th {\n",
       "        text-align: right;\n",
       "    }\n",
       "</style>\n",
       "<table border=\"1\" class=\"dataframe\">\n",
       "  <thead>\n",
       "    <tr style=\"text-align: right;\">\n",
       "      <th></th>\n",
       "      <th>wage</th>\n",
       "      <th>tenure</th>\n",
       "      <th>IQ</th>\n",
       "      <th>educ</th>\n",
       "    </tr>\n",
       "  </thead>\n",
       "  <tbody>\n",
       "    <tr>\n",
       "      <th>5</th>\n",
       "      <td>1400</td>\n",
       "      <td>2</td>\n",
       "      <td>116</td>\n",
       "      <td>16</td>\n",
       "    </tr>\n",
       "    <tr>\n",
       "      <th>6</th>\n",
       "      <td>600</td>\n",
       "      <td>0</td>\n",
       "      <td>91</td>\n",
       "      <td>10</td>\n",
       "    </tr>\n",
       "    <tr>\n",
       "      <th>7</th>\n",
       "      <td>1081</td>\n",
       "      <td>14</td>\n",
       "      <td>114</td>\n",
       "      <td>18</td>\n",
       "    </tr>\n",
       "    <tr>\n",
       "      <th>8</th>\n",
       "      <td>1154</td>\n",
       "      <td>1</td>\n",
       "      <td>111</td>\n",
       "      <td>15</td>\n",
       "    </tr>\n",
       "    <tr>\n",
       "      <th>9</th>\n",
       "      <td>1000</td>\n",
       "      <td>16</td>\n",
       "      <td>95</td>\n",
       "      <td>12</td>\n",
       "    </tr>\n",
       "  </tbody>\n",
       "</table>\n",
       "</div>"
      ],
      "text/plain": [
       "   wage  tenure   IQ  educ\n",
       "5  1400       2  116    16\n",
       "6   600       0   91    10\n",
       "7  1081      14  114    18\n",
       "8  1154       1  111    15\n",
       "9  1000      16   95    12"
      ]
     },
     "execution_count": 44,
     "metadata": {},
     "output_type": "execute_result"
    }
   ],
   "source": [
    "df.iloc[5:10]"
   ]
  },
  {
   "cell_type": "code",
   "execution_count": 47,
   "metadata": {},
   "outputs": [
    {
     "name": "stdout",
     "output_type": "stream",
     "text": [
      "Actual: 1400 -- Predicted: 1086\n",
      "Actual: 600 -- Predicted: 681\n",
      "Actual: 1081 -- Predicted: 1288\n",
      "Actual: 1154 -- Predicted: 1008\n",
      "Actual: 1000 -- Predicted: 953\n"
     ]
    }
   ],
   "source": [
    "for i in range(5,10):\n",
    "    print(f\"Actual: {df.iloc[i]['wage']} -- Predicted: {predict_wage(df.iloc[i]['tenure'], df.iloc[i]['IQ'], df.iloc[i]['educ'])}\")"
   ]
  },
  {
   "cell_type": "markdown",
   "metadata": {},
   "source": [
    "<br>\n",
    "Our predictions weren't perfect, but this is the best the MLR could do.\n",
    "<br><br>\n",
    "Even though regression tools and libraries will take care of the matrix algebra for you, hopefully you found this example interesting."
   ]
  }
 ],
 "metadata": {
  "kernelspec": {
   "display_name": "Python 3",
   "language": "python",
   "name": "python3"
  },
  "language_info": {
   "codemirror_mode": {
    "name": "ipython",
    "version": 3
   },
   "file_extension": ".py",
   "mimetype": "text/x-python",
   "name": "python",
   "nbconvert_exporter": "python",
   "pygments_lexer": "ipython3",
   "version": "3.7.3"
  }
 },
 "nbformat": 4,
 "nbformat_minor": 2
}
